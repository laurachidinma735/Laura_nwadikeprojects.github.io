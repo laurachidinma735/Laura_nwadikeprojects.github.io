{
 "cells": [
  {
   "cell_type": "markdown",
   "id": "74817a29-9e1d-44d8-b974-42150088c5f2",
   "metadata": {},
   "source": [
    "BMI CALCULATOR"
   ]
  },
  {
   "cell_type": "code",
   "execution_count": 1,
   "id": "c9d347aa-09ff-42a9-b0af-19ab158ba372",
   "metadata": {},
   "outputs": [
    {
     "name": "stdin",
     "output_type": "stream",
     "text": [
      "Enter your first name laura\n",
      "Enter your weight in pounds:  150\n",
      "Enter your height in inches:  89\n"
     ]
    },
    {
     "name": "stdout",
     "output_type": "stream",
     "text": [
      "13.312713041282667\n",
      "laura, you are underweight\n"
     ]
    }
   ],
   "source": [
    "name = input(\"Enter your first name\")\n",
    "weight = float(input(\"Enter your weight in pounds: \"))\n",
    "height = int(input(\"Enter your height in inches: \"))\n",
    "BMI = (weight * 703)/(height * height)\n",
    "print(BMI)\n",
    "if BMI>0:\n",
    "    if (BMI<=18.5):\n",
    "        print(name + \", you are underweight\")\n",
    "    elif (BMI<=24.9):\n",
    "        print(name + \",you are normal weight\")\n",
    "    elif (BMI<=29.9):\n",
    "        print(name + \",you are overweight. You need to exercise more often and probably drink more water\")\n",
    "    elif (BMI<=34.9):\n",
    "        print(name + \",you are obese\")\n",
    "    elif(BMI<=39.9):\n",
    "        print(name + \"you are severely obese\")\n",
    "    elif(BMI>=40):\n",
    "        print(name + \",you are morbidly obese\")\n",
    "else:\n",
    "    print(\"Enter valid input\")\n"
   ]
  },
  {
   "cell_type": "code",
   "execution_count": null,
   "id": "879c0c2d-7182-4bf2-a700-9c5bb0fc3594",
   "metadata": {},
   "outputs": [],
   "source": []
  },
  {
   "cell_type": "code",
   "execution_count": null,
   "id": "67004b7e-ebdf-4854-9005-fb5370a85d10",
   "metadata": {},
   "outputs": [],
   "source": [
    "Under 18.5 Underweight - Minimal\n",
    "18.5 - 24.9 Normal Weight - Minimal\n",
    "25 - 29.9 Overweight - Increased\n",
    "30 - 34.9 Obese - High\n",
    "35 - 39.9 Severely Obese - Very High\n",
    "40 and over Morbidly Obese - Extremely High"
   ]
  },
  {
   "cell_type": "code",
   "execution_count": 38,
   "id": "0833c72e-693b-40e8-b3cf-ed8b795c4fd8",
   "metadata": {},
   "outputs": [
    {
     "name": "stdout",
     "output_type": "stream",
     "text": [
      "Alex,you are overweight\n"
     ]
    }
   ],
   "source": [
    "if BMI>0:\n",
    "    if (BMI<=18.5):\n",
    "        print(name + \", you are underweight\")\n",
    "    elif (BMI<=24.9):\n",
    "        print(name + \",you are normal weight\")\n",
    "    elif (BMI<=29.9):\n",
    "        print(name + \",you are overweight\")\n",
    "    elif (BMI<=34.9):\n",
    "        print(name + \",you are obese\")\n",
    "    elif(BMI<=39.9):\n",
    "        print(name + \"you are severely obese\")\n",
    "    elif(BMI>=40):\n",
    "        print(name + \",you are morbidly obese\")\n",
    "else:\n",
    "    print(\"Enter valid input\")"
   ]
  },
  {
   "cell_type": "code",
   "execution_count": 16,
   "id": "b669a2a6-d534-47c9-a98c-b29a45e50731",
   "metadata": {},
   "outputs": [
    {
     "name": "stdout",
     "output_type": "stream",
     "text": [
      "25.101869355177485\n"
     ]
    }
   ],
   "source": [
    "print(BMI)"
   ]
  },
  {
   "cell_type": "code",
   "execution_count": null,
   "id": "b7306251-d202-4982-a747-7c6c5098d5f6",
   "metadata": {},
   "outputs": [],
   "source": []
  },
  {
   "cell_type": "code",
   "execution_count": null,
   "id": "8429c5f5-6d69-4264-b641-a1418851886d",
   "metadata": {},
   "outputs": [],
   "source": []
  },
  {
   "cell_type": "code",
   "execution_count": null,
   "id": "a4e4f357-50cf-4763-8add-b6ce56a85398",
   "metadata": {},
   "outputs": [],
   "source": []
  },
  {
   "cell_type": "code",
   "execution_count": null,
   "id": "f94fe84e-9002-4b71-aa7c-2c1636fb879f",
   "metadata": {},
   "outputs": [],
   "source": []
  },
  {
   "cell_type": "code",
   "execution_count": null,
   "id": "eb827089-bca0-4cf3-8d8c-80d0bdb13511",
   "metadata": {},
   "outputs": [],
   "source": []
  }
 ],
 "metadata": {
  "kernelspec": {
   "display_name": "Python 3 (ipykernel)",
   "language": "python",
   "name": "python3"
  },
  "language_info": {
   "codemirror_mode": {
    "name": "ipython",
    "version": 3
   },
   "file_extension": ".py",
   "mimetype": "text/x-python",
   "name": "python",
   "nbconvert_exporter": "python",
   "pygments_lexer": "ipython3",
   "version": "3.12.4"
  }
 },
 "nbformat": 4,
 "nbformat_minor": 5
}
