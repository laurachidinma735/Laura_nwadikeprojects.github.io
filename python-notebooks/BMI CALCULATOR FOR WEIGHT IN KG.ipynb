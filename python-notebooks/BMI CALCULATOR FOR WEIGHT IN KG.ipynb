{
 "cells": [
  {
   "cell_type": "code",
   "execution_count": 7,
   "id": "0b2a5d81-814f-4e53-b06c-30b81846313d",
   "metadata": {},
   "outputs": [
    {
     "name": "stdin",
     "output_type": "stream",
     "text": [
      "Enter your first name Cookie\n",
      "Enter your weight in kilogram *2.205:  89\n",
      "Enter your height in feet 6\n",
      "Enter your height in inches:  1\n"
     ]
    },
    {
     "name": "stdout",
     "output_type": "stream",
     "text": [
      "25.888578532557705\n",
      "Cookie,you are overweight. You need to exercise more often and probably drink more water\n"
     ]
    }
   ],
   "source": [
    "name = input(\"Enter your first name\")\n",
    "weight = float(input(\"Enter your weight in kilogram *2.205: \"))\n",
    "height1 = int(input(\"Enter your height in feet\"))\n",
    "height2 = float(input(\"Enter your height in inches: \"))\n",
    "heightT = (height1 *12) + height2\n",
    "BMI = (weight *2.205 * 703)/(heightT * heightT)\n",
    "print(BMI)\n",
    "if BMI>0:\n",
    "    if (BMI<=18.5):\n",
    "        print(name + \", you are underweight\")\n",
    "    elif (BMI<=24.9):\n",
    "        print(name + \",you are normal weight\")\n",
    "    elif (BMI<=29.9):\n",
    "        print(name + \",you are overweight. You need to exercise more often and probably drink more water\")\n",
    "    elif (BMI<=34.9):\n",
    "        print(name + \",you are obese\")\n",
    "    elif(BMI<=39.9):\n",
    "        print(name + \"you are severely obese\")\n",
    "    elif(BMI>=40):\n",
    "        print(name + \",you are morbidly obese\")\n",
    "else:\n",
    "    print(\"Enter valid input\")"
   ]
  },
  {
   "cell_type": "code",
   "execution_count": null,
   "id": "b435caf8-6a31-442e-8e88-05125b463808",
   "metadata": {},
   "outputs": [],
   "source": []
  }
 ],
 "metadata": {
  "kernelspec": {
   "display_name": "Python 3 (ipykernel)",
   "language": "python",
   "name": "python3"
  },
  "language_info": {
   "codemirror_mode": {
    "name": "ipython",
    "version": 3
   },
   "file_extension": ".py",
   "mimetype": "text/x-python",
   "name": "python",
   "nbconvert_exporter": "python",
   "pygments_lexer": "ipython3",
   "version": "3.12.4"
  }
 },
 "nbformat": 4,
 "nbformat_minor": 5
}
